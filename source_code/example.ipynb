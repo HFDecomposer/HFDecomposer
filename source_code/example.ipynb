{
 "cells": [
  {
   "cell_type": "code",
   "execution_count": 1,
   "metadata": {},
   "outputs": [],
   "source": [
    "import os\n",
    "import sys\n",
    "import time\n",
    "import json\n",
    "import pandas as pd\n",
    "import ast\n",
    "\n",
    "from code_element_graph_construction.graph_constructor import get_code_element_graph\n",
    "from decomposition_plan_generation.circular_dependency_fixing.fixing import circular_dependency_fixing\n",
    "from llm_suggestion.llm_suggestion import *\n",
    "from llm_suggestion.static_error_fixing import *"
   ]
  },
  {
   "cell_type": "code",
   "execution_count": 2,
   "metadata": {},
   "outputs": [],
   "source": [
    "project_dir = \"/Your/Path/To/openssl_7436\"\n",
    "target_header_file_path = \"include/openssl/modes.h\"\n",
    "parts = 2 \n",
    "key = \"your api key\"\n",
    "URL = \"your host and port\""
   ]
  },
  {
   "cell_type": "code",
   "execution_count": 3,
   "metadata": {},
   "outputs": [
    {
     "name": "stdout",
     "output_type": "stream",
     "text": [
      "Constructing code element graph for the first time. This may take a while.\n",
      "constructing code element graph for /data/GodHeaderFileEmpirical/dataset/projects-compile/original_projects/openssl_7436\n",
      "step 1 of 5: parsing code elements and intra-file relationships\n"
     ]
    },
    {
     "name": "stdout",
     "output_type": "stream",
     "text": [
      "step 2 of 5: parsing direct inter-file be-referenced relationships between c file and h file\n",
      "step 3 of 5: parsing direct inter-file referenced relationships among h files\n",
      "step 4 of 5: looking for all downstream files and direct dependency relationships\n",
      "step 5 of 5: c --indirect use--> code element\n"
     ]
    }
   ],
   "source": [
    "basename = os.path.basename(target_header_file_path)\n",
    "\n",
    "if project_dir[-1] == '/' or project_dir[-1] == '\\\\':\n",
    "    project_dir = project_dir[:-1]\n",
    "project_dir = os.path.normpath(project_dir)\n",
    "project_name = project_dir.split(os.sep)[-1]\n",
    "\n",
    "header_files = get_code_element_graph(project_dir,target_header_file_path)\n",
    "prefix = list(header_files.keys())[0]\n",
    "prefix = prefix[:prefix.find(project_name)]\n",
    "target_file = os.path.join(prefix, project_name, target_header_file_path)\n",
    "target_header_file = header_files[target_file]"
   ]
  },
  {
   "cell_type": "code",
   "execution_count": 4,
   "metadata": {},
   "outputs": [
    {
     "name": "stdout",
     "output_type": "stream",
     "text": [
      "init_result:\n",
      " {'block128_f': 0, 'cbc128_f': 0, 'ctr128_f': 0, 'ccm128_f': 0, 'CRYPTO_cbc128_encrypt': 0, 'CRYPTO_cbc128_decrypt': 0, 'CRYPTO_ctr128_encrypt': 0, 'CRYPTO_ctr128_encrypt_ctr32': 0, 'CRYPTO_ofb128_encrypt': 0, 'CRYPTO_cfb128_encrypt': 0, 'CRYPTO_cfb128_8_encrypt': 0, 'CRYPTO_cfb128_1_encrypt': 0, 'CRYPTO_cts128_encrypt_block': 0, 'CRYPTO_cts128_encrypt': 0, 'CRYPTO_cts128_decrypt_block': 0, 'CRYPTO_cts128_decrypt': 0, 'CRYPTO_nistcts128_encrypt_block': 0, 'CRYPTO_nistcts128_encrypt': 0, 'CRYPTO_nistcts128_decrypt_block': 0, 'CRYPTO_nistcts128_decrypt': 0, 'GCM128_CONTEXT': 1, 'CRYPTO_gcm128_new': 1, 'CRYPTO_gcm128_init': 1, 'CRYPTO_gcm128_setiv': 1, 'CRYPTO_gcm128_aad': 1, 'CRYPTO_gcm128_encrypt': 1, 'CRYPTO_gcm128_decrypt': 1, 'CRYPTO_gcm128_encrypt_ctr32': 1, 'CRYPTO_gcm128_decrypt_ctr32': 1, 'CRYPTO_gcm128_finish': 1, 'CRYPTO_gcm128_tag': 1, 'CRYPTO_gcm128_release': 1, 'CCM128_CONTEXT': 1, 'CRYPTO_ccm128_init': 1, 'CRYPTO_ccm128_setiv': 1, 'CRYPTO_ccm128_aad': 1, 'CRYPTO_ccm128_encrypt': 1, 'CRYPTO_ccm128_decrypt': 1, 'CRYPTO_ccm128_encrypt_ccm64': 1, 'CRYPTO_ccm128_decrypt_ccm64': 1, 'CRYPTO_ccm128_tag': 1, 'XTS128_CONTEXT': 1, 'CRYPTO_xts128_encrypt': 1, 'CRYPTO_128_wrap': 0, 'CRYPTO_128_unwrap': 0, 'CRYPTO_128_wrap_pad': 0, 'CRYPTO_128_unwrap_pad': 0, 'OCB128_CONTEXT': 1, 'ocb128_f': 1, 'CRYPTO_ocb128_new': 1, 'CRYPTO_ocb128_init': 1, 'CRYPTO_ocb128_copy_ctx': 1, 'CRYPTO_ocb128_setiv': 1, 'CRYPTO_ocb128_aad': 1, 'CRYPTO_ocb128_encrypt': 1, 'CRYPTO_ocb128_decrypt': 1, 'CRYPTO_ocb128_finish': 1, 'CRYPTO_ocb128_tag': 1, 'CRYPTO_ocb128_cleanup': 1, 'SIV128_CONTEXT': 1, 'SIV_LEN': 1, 'CRYPTO_siv128_new': 1, 'CRYPTO_siv128_init': 1, 'CRYPTO_siv128_copy_ctx': 1, 'CRYPTO_siv128_aad': 1, 'CRYPTO_siv128_encrypt': 1, 'CRYPTO_siv128_decrypt': 1, 'CRYPTO_siv128_finish': 1, 'CRYPTO_siv128_set_tag': 1, 'CRYPTO_siv128_get_tag': 1, 'CRYPTO_siv128_cleanup': 1, 'CRYPTO_siv128_speed': 1}\n"
     ]
    }
   ],
   "source": [
    "with open(target_file,'r',encoding='gbk',errors='ignore') as f:\n",
    "    code_content = f.read()\n",
    "content_refactoring(project_name,target_header_file.code_elements,basename,target_header_file, parts, code_content, key, URL)\n",
    "with open(f\"init_result.json\", 'r', encoding='utf-8') as json_file:\n",
    "    community_index = json.load(json_file)\n",
    "print(\"init_result:\\n\",community_index)"
   ]
  },
  {
   "cell_type": "code",
   "execution_count": 5,
   "metadata": {},
   "outputs": [
    {
     "name": "stdout",
     "output_type": "stream",
     "text": [
      "static_error_checking_and_fixing:\n",
      "missing: CRYPTO_siv128_speed, fixing_index: 0\n",
      "Cyclic dependency fixing...\n",
      "quotient graph is DAG:  True\n",
      "[]\n",
      "cycles: []\n",
      "0\n",
      "move_steps: 0\n",
      "\n",
      "\n",
      "final_result:\n",
      " {'HEADER_MODES_H+preproc_def': 0, 'block128_f+type_definition': 0, 'cbc128_f+type_definition': 0, 'ctr128_f+type_definition': 0, 'ccm128_f+type_definition': 0, 'CRYPTO_cbc128_encrypt+declaration': 0, 'CRYPTO_cbc128_decrypt+declaration': 0, 'CRYPTO_ctr128_encrypt+declaration': 0, 'CRYPTO_ctr128_encrypt_ctr32+declaration': 0, 'CRYPTO_ofb128_encrypt+declaration': 0, 'CRYPTO_cfb128_encrypt+declaration': 0, 'CRYPTO_cfb128_8_encrypt+declaration': 0, 'CRYPTO_cfb128_1_encrypt+declaration': 0, 'CRYPTO_cts128_encrypt_block+declaration': 0, 'CRYPTO_cts128_encrypt+declaration': 0, 'CRYPTO_cts128_decrypt_block+declaration': 0, 'CRYPTO_cts128_decrypt+declaration': 0, 'CRYPTO_nistcts128_encrypt_block+declaration': 0, 'CRYPTO_nistcts128_encrypt+declaration': 0, 'CRYPTO_nistcts128_decrypt_block+declaration': 0, 'CRYPTO_nistcts128_decrypt+declaration': 0, 'GCM128_CONTEXT+type_definition': 1, 'CRYPTO_gcm128_new+declaration': 1, 'CRYPTO_gcm128_init+declaration': 1, 'CRYPTO_gcm128_setiv+declaration': 1, 'CRYPTO_gcm128_aad+declaration': 1, 'CRYPTO_gcm128_encrypt+declaration': 1, 'CRYPTO_gcm128_decrypt+declaration': 1, 'CRYPTO_gcm128_encrypt_ctr32+declaration': 1, 'CRYPTO_gcm128_decrypt_ctr32+declaration': 1, 'CRYPTO_gcm128_finish+declaration': 1, 'CRYPTO_gcm128_tag+declaration': 1, 'CRYPTO_gcm128_release+declaration': 1, 'CCM128_CONTEXT+type_definition': 1, 'CRYPTO_ccm128_init+declaration': 1, 'CRYPTO_ccm128_setiv+declaration': 1, 'CRYPTO_ccm128_aad+declaration': 1, 'CRYPTO_ccm128_encrypt+declaration': 1, 'CRYPTO_ccm128_decrypt+declaration': 1, 'CRYPTO_ccm128_encrypt_ccm64+declaration': 1, 'CRYPTO_ccm128_decrypt_ccm64+declaration': 1, 'CRYPTO_ccm128_tag+declaration': 1, 'XTS128_CONTEXT+type_definition': 1, 'CRYPTO_xts128_encrypt+declaration': 1, 'CRYPTO_128_wrap+declaration': 0, 'CRYPTO_128_unwrap+declaration': 0, 'CRYPTO_128_wrap_pad+declaration': 0, 'CRYPTO_128_unwrap_pad+declaration': 0, 'OCB128_CONTEXT+type_definition': 1, 'ocb128_f+type_definition': 1, 'CRYPTO_ocb128_new+declaration': 1, 'CRYPTO_ocb128_init+declaration': 1, 'CRYPTO_ocb128_copy_ctx+declaration': 1, 'CRYPTO_ocb128_setiv+declaration': 1, 'CRYPTO_ocb128_aad+declaration': 1, 'CRYPTO_ocb128_encrypt+declaration': 1, 'CRYPTO_ocb128_decrypt+declaration': 1, 'CRYPTO_ocb128_finish+declaration': 1, 'CRYPTO_ocb128_tag+declaration': 1, 'CRYPTO_ocb128_cleanup+declaration': 1, 'SIV128_CONTEXT+type_definition': 1, 'SIV_LEN+preproc_def': 1, 'CRYPTO_siv128_new+declaration': 1, 'CRYPTO_siv128_init+declaration': 1, 'CRYPTO_siv128_copy_ctx+declaration': 1, 'CRYPTO_siv128_aad+declaration': 1, 'CRYPTO_siv128_encrypt+declaration': 1, 'CRYPTO_siv128_decrypt+declaration': 1, 'CRYPTO_siv128_finish+declaration': 1, 'CRYPTO_siv128_set_tag+declaration': 1, 'CRYPTO_siv128_get_tag+declaration': 1, 'CRYPTO_siv128_cleanup+declaration': 1, 'CRYPTO_siv128_speed+declaration': 1}\n"
     ]
    }
   ],
   "source": [
    "community_index = static_checking_and_fixing(community_index,target_header_file,project_name,basename)\n",
    "community_index = circular_dependency_fixing(target_header_file,community_index)\n",
    "with open(f\"final_result.json\", 'w', encoding='utf-8') as json_file:\n",
    "    json.dump(community_index, json_file)\n",
    "print(\"final_result:\\n\",community_index)"
   ]
  }
 ],
 "metadata": {
  "kernelspec": {
   "display_name": "base",
   "language": "python",
   "name": "python3"
  },
  "language_info": {
   "codemirror_mode": {
    "name": "ipython",
    "version": 3
   },
   "file_extension": ".py",
   "mimetype": "text/x-python",
   "name": "python",
   "nbconvert_exporter": "python",
   "pygments_lexer": "ipython3",
   "version": "3.9.13"
  }
 },
 "nbformat": 4,
 "nbformat_minor": 2
}
